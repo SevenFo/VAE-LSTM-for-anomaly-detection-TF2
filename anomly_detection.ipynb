{
 "cells": [
  {
   "cell_type": "code",
   "execution_count": 1,
   "metadata": {},
   "outputs": [
    {
     "name": "stderr",
     "output_type": "stream",
     "text": [
      "2024-07-08 18:55:45.378622: I tensorflow/core/util/port.cc:113] oneDNN custom operations are on. You may see slightly different numerical results due to floating-point round-off errors from different computation orders. To turn them off, set the environment variable `TF_ENABLE_ONEDNN_OPTS=0`.\n",
      "2024-07-08 18:55:45.408183: E external/local_xla/xla/stream_executor/cuda/cuda_dnn.cc:10575] Unable to register cuDNN factory: Attempting to register factory for plugin cuDNN when one has already been registered\n",
      "2024-07-08 18:55:45.408201: E external/local_xla/xla/stream_executor/cuda/cuda_fft.cc:479] Unable to register cuFFT factory: Attempting to register factory for plugin cuFFT when one has already been registered\n",
      "2024-07-08 18:55:45.409417: E external/local_xla/xla/stream_executor/cuda/cuda_blas.cc:1442] Unable to register cuBLAS factory: Attempting to register factory for plugin cuBLAS when one has already been registered\n",
      "2024-07-08 18:55:45.414803: I tensorflow/core/platform/cpu_feature_guard.cc:210] This TensorFlow binary is optimized to use available CPU instructions in performance-critical operations.\n",
      "To enable the following instructions: SSE4.1 SSE4.2 AVX AVX2 AVX512F AVX512_VNNI FMA, in other operations, rebuild TensorFlow with the appropriate compiler flags.\n"
     ]
    }
   ],
   "source": [
    "import tensorflow as tf\n",
    "from tensorflow import keras"
   ]
  },
  {
   "cell_type": "code",
   "execution_count": 2,
   "metadata": {},
   "outputs": [
    {
     "name": "stdout",
     "output_type": "stream",
     "text": [
      "{'name': 'vae_lstm', 'trainable': True, 'dtype': {'module': 'keras', 'class_name': 'DTypePolicy', 'config': {'name': 'float32'}, 'registered_name': None}, 'configs': {'exp_name': 'NAB', 'dataset': 'NSV_sub_right_sub_4374', 'y_scale': 5, 'one_image': 0, 'l_seq': 12, 'l_win': 24, 'n_channel': 1, 'TRAIN_VAE': 1, 'TRAIN_LSTM': 1, 'TRAIN_sigma': 0, 'batch_size': 32, 'batch_size_lstm': 32, 'load_model': 1, 'load_dir': 'default', 'num_epochs_vae': 0, 'num_epochs_lstm': 20, 'learning_rate_vae': 0.0004, 'learning_rate_lstm': 0.0002, 'code_size': 6, 'sigma': 0.1, 'sigma2_offset': 0.01, 'num_hidden_units': 512, 'num_hidden_units_lstm': 64}, 'vae': {'module': 'models', 'class_name': 'VAEModel', 'config': {'name': 'vae_model', 'trainable': False, 'dtype': {'module': 'keras', 'class_name': 'DTypePolicy', 'config': {'name': 'float32'}, 'registered_name': None, 'shared_object_id': 123335988418640}, 'configs': {'exp_name': 'NAB', 'dataset': 'NSV_sub_right_sub_4374', 'y_scale': 5, 'one_image': 0, 'l_seq': 12, 'l_win': 24, 'n_channel': 1, 'TRAIN_VAE': 1, 'TRAIN_LSTM': 1, 'TRAIN_sigma': 0, 'batch_size': 32, 'batch_size_lstm': 32, 'load_model': 1, 'load_dir': 'default', 'num_epochs_vae': 0, 'num_epochs_lstm': 20, 'learning_rate_vae': 0.0004, 'learning_rate_lstm': 0.0002, 'code_size': 6, 'sigma': 0.1, 'sigma2_offset': 0.01, 'num_hidden_units': 512, 'num_hidden_units_lstm': 64}, 'encoder': {'name': 'encoder', 'trainable': False, 'dtype': {'module': 'keras', 'class_name': 'DTypePolicy', 'config': {'name': 'float32'}, 'registered_name': None, 'shared_object_id': 123335988418640}, 'configs': {'exp_name': 'NAB', 'dataset': 'NSV_sub_right_sub_4374', 'y_scale': 5, 'one_image': 0, 'l_seq': 12, 'l_win': 24, 'n_channel': 1, 'TRAIN_VAE': 1, 'TRAIN_LSTM': 1, 'TRAIN_sigma': 0, 'batch_size': 32, 'batch_size_lstm': 32, 'load_model': 1, 'load_dir': 'default', 'num_epochs_vae': 0, 'num_epochs_lstm': 20, 'learning_rate_vae': 0.0004, 'learning_rate_lstm': 0.0002, 'code_size': 6, 'sigma': 0.1, 'sigma2_offset': 0.01, 'num_hidden_units': 512, 'num_hidden_units_lstm': 64}}, 'decoder': {'name': 'decoder', 'trainable': False, 'dtype': {'module': 'keras', 'class_name': 'DTypePolicy', 'config': {'name': 'float32'}, 'registered_name': None, 'shared_object_id': 123335988418640}, 'configs': {'exp_name': 'NAB', 'dataset': 'NSV_sub_right_sub_4374', 'y_scale': 5, 'one_image': 0, 'l_seq': 12, 'l_win': 24, 'n_channel': 1, 'TRAIN_VAE': 1, 'TRAIN_LSTM': 1, 'TRAIN_sigma': 0, 'batch_size': 32, 'batch_size_lstm': 32, 'load_model': 1, 'load_dir': 'default', 'num_epochs_vae': 0, 'num_epochs_lstm': 20, 'learning_rate_vae': 0.0004, 'learning_rate_lstm': 0.0002, 'code_size': 6, 'sigma': 0.1, 'sigma2_offset': 0.01, 'num_hidden_units': 512, 'num_hidden_units_lstm': 64}}}, 'registered_name': 'VAEModel', 'build_config': {'input_shape': [1, 24, 1]}, 'compile_config': {'optimizer': {'module': 'keras.optimizers', 'class_name': 'Adam', 'config': {'name': 'adam', 'learning_rate': {'module': 'keras.optimizers.schedules', 'class_name': 'ExponentialDecay', 'config': {'initial_learning_rate': 0.0004, 'decay_steps': 1000, 'decay_rate': 0.96, 'staircase': True, 'name': 'ExponentialDecay'}, 'registered_name': None}, 'weight_decay': None, 'clipnorm': None, 'global_clipnorm': None, 'clipvalue': None, 'use_ema': False, 'ema_momentum': 0.99, 'ema_overwrite_frequency': None, 'loss_scale_factor': None, 'gradient_accumulation_steps': None, 'beta_1': 0.9, 'beta_2': 0.999, 'epsilon': 1e-07, 'amsgrad': False}, 'registered_name': None}, 'loss': None, 'loss_weights': None, 'metrics': None, 'weighted_metrics': None, 'run_eagerly': False, 'steps_per_execution': 1, 'jit_compile': True}}, 'lstm': {'module': 'models', 'class_name': 'LSTMModule', 'config': {'name': 'lstm_module', 'trainable': True, 'dtype': {'module': 'keras', 'class_name': 'DTypePolicy', 'config': {'name': 'float32'}, 'registered_name': None, 'shared_object_id': 123335988418640}, 'configs': {'exp_name': 'NAB', 'dataset': 'NSV_sub_right_sub_4374', 'y_scale': 5, 'one_image': 0, 'l_seq': 12, 'l_win': 24, 'n_channel': 1, 'TRAIN_VAE': 1, 'TRAIN_LSTM': 1, 'TRAIN_sigma': 0, 'batch_size': 32, 'batch_size_lstm': 32, 'load_model': 1, 'load_dir': 'default', 'num_epochs_vae': 0, 'num_epochs_lstm': 20, 'learning_rate_vae': 0.0004, 'learning_rate_lstm': 0.0002, 'code_size': 6, 'sigma': 0.1, 'sigma2_offset': 0.01, 'num_hidden_units': 512, 'num_hidden_units_lstm': 64}}, 'registered_name': 'LSTMModule', 'build_config': {'input_shape': [1, 11, 6]}}, 'mean': 0.2205019202348541, 'std': 0.14618956488852092}\n",
      "{'module': 'models', 'class_name': 'VAEModel', 'config': {'name': 'vae_model', 'trainable': False, 'dtype': {'module': 'keras', 'class_name': 'DTypePolicy', 'config': {'name': 'float32'}, 'registered_name': None, 'shared_object_id': 123335988418640}, 'configs': {'exp_name': 'NAB', 'dataset': 'NSV_sub_right_sub_4374', 'y_scale': 5, 'one_image': 0, 'l_seq': 12, 'l_win': 24, 'n_channel': 1, 'TRAIN_VAE': 1, 'TRAIN_LSTM': 1, 'TRAIN_sigma': 0, 'batch_size': 32, 'batch_size_lstm': 32, 'load_model': 1, 'load_dir': 'default', 'num_epochs_vae': 0, 'num_epochs_lstm': 20, 'learning_rate_vae': 0.0004, 'learning_rate_lstm': 0.0002, 'code_size': 6, 'sigma': 0.1, 'sigma2_offset': 0.01, 'num_hidden_units': 512, 'num_hidden_units_lstm': 64}, 'encoder': {'name': 'encoder', 'trainable': False, 'dtype': {'module': 'keras', 'class_name': 'DTypePolicy', 'config': {'name': 'float32'}, 'registered_name': None, 'shared_object_id': 123335988418640}, 'configs': {'exp_name': 'NAB', 'dataset': 'NSV_sub_right_sub_4374', 'y_scale': 5, 'one_image': 0, 'l_seq': 12, 'l_win': 24, 'n_channel': 1, 'TRAIN_VAE': 1, 'TRAIN_LSTM': 1, 'TRAIN_sigma': 0, 'batch_size': 32, 'batch_size_lstm': 32, 'load_model': 1, 'load_dir': 'default', 'num_epochs_vae': 0, 'num_epochs_lstm': 20, 'learning_rate_vae': 0.0004, 'learning_rate_lstm': 0.0002, 'code_size': 6, 'sigma': 0.1, 'sigma2_offset': 0.01, 'num_hidden_units': 512, 'num_hidden_units_lstm': 64}}, 'decoder': {'name': 'decoder', 'trainable': False, 'dtype': {'module': 'keras', 'class_name': 'DTypePolicy', 'config': {'name': 'float32'}, 'registered_name': None, 'shared_object_id': 123335988418640}, 'configs': {'exp_name': 'NAB', 'dataset': 'NSV_sub_right_sub_4374', 'y_scale': 5, 'one_image': 0, 'l_seq': 12, 'l_win': 24, 'n_channel': 1, 'TRAIN_VAE': 1, 'TRAIN_LSTM': 1, 'TRAIN_sigma': 0, 'batch_size': 32, 'batch_size_lstm': 32, 'load_model': 1, 'load_dir': 'default', 'num_epochs_vae': 0, 'num_epochs_lstm': 20, 'learning_rate_vae': 0.0004, 'learning_rate_lstm': 0.0002, 'code_size': 6, 'sigma': 0.1, 'sigma2_offset': 0.01, 'num_hidden_units': 512, 'num_hidden_units_lstm': 64}}}, 'registered_name': 'VAEModel', 'build_config': {'input_shape': [1, 24, 1]}, 'compile_config': {'optimizer': {'module': 'keras.optimizers', 'class_name': 'Adam', 'config': {'name': 'adam', 'learning_rate': {'module': 'keras.optimizers.schedules', 'class_name': 'ExponentialDecay', 'config': {'initial_learning_rate': 0.0004, 'decay_steps': 1000, 'decay_rate': 0.96, 'staircase': True, 'name': 'ExponentialDecay'}, 'registered_name': None}, 'weight_decay': None, 'clipnorm': None, 'global_clipnorm': None, 'clipvalue': None, 'use_ema': False, 'ema_momentum': 0.99, 'ema_overwrite_frequency': None, 'loss_scale_factor': None, 'gradient_accumulation_steps': None, 'beta_1': 0.9, 'beta_2': 0.999, 'epsilon': 1e-07, 'amsgrad': False}, 'registered_name': None}, 'loss': None, 'loss_weights': None, 'metrics': None, 'weighted_metrics': None, 'run_eagerly': False, 'steps_per_execution': 1, 'jit_compile': True}}\n"
     ]
    },
    {
     "name": "stderr",
     "output_type": "stream",
     "text": [
      "2024-07-08 18:55:47.556922: I tensorflow/core/common_runtime/gpu/gpu_device.cc:1928] Created device /job:localhost/replica:0/task:0/device:GPU:0 with 22279 MB memory:  -> device: 0, name: NVIDIA GeForce RTX 4090, pci bus id: 0000:31:00.0, compute capability: 8.9\n"
     ]
    },
    {
     "name": "stdout",
     "output_type": "stream",
     "text": [
      "VAEModel input size (1, 12, 24, 1)\n",
      "VAEModel input size (after reshape) (12, 24, 1)\n",
      "VAEModel input size (1, 12, 24, 1)\n",
      "VAEModel input size (after reshape) (12, 24, 1)\n"
     ]
    },
    {
     "name": "stderr",
     "output_type": "stream",
     "text": [
      "/home/ps/miniforge3/envs/TF2/lib/python3.9/site-packages/keras/src/saving/saving_lib.py:576: UserWarning: Skipping variable loading for optimizer 'adam', because it has 71 variables whereas the saved optimizer has 1 variables. \n",
      "  saveable.load_own_variables(weights_store.get(inner_path))\n"
     ]
    }
   ],
   "source": [
    "from models import VAE_LSTM, VAEModel, LSTMModule, Encoder, Decoder\n",
    "\n",
    "custom_objects = {\n",
    "    'Encoder': Encoder,\n",
    "    'Decoder': Decoder,\n",
    "    'VAEModel': VAEModel,\n",
    "    'LSTMModule': LSTMModule,\n",
    "    'VAE_LSTM': VAE_LSTM\n",
    "}\n",
    "\n",
    "model = keras.models.load_model('VAE_LSTM.keras', custom_objects=custom_objects)\n"
   ]
  },
  {
   "cell_type": "code",
   "execution_count": 5,
   "metadata": {},
   "outputs": [
    {
     "name": "stdout",
     "output_type": "stream",
     "text": [
      "VAEModel input size (199, 12, 24, 1)\n",
      "VAEModel input size (after reshape) (2388, 24, 1)\n"
     ]
    },
    {
     "data": {
      "text/html": [
       "<pre style=\"white-space:pre;overflow-x:auto;line-height:normal;font-family:Menlo,'DejaVu Sans Mono',consolas,'Courier New',monospace\"><span style=\"font-weight: bold\">Model: \"vae_lstm\"</span>\n",
       "</pre>\n"
      ],
      "text/plain": [
       "\u001b[1mModel: \"vae_lstm\"\u001b[0m\n"
      ]
     },
     "metadata": {},
     "output_type": "display_data"
    },
    {
     "data": {
      "text/html": [
       "<pre style=\"white-space:pre;overflow-x:auto;line-height:normal;font-family:Menlo,'DejaVu Sans Mono',consolas,'Courier New',monospace\">┏━━━━━━━━━━━━━━━━━━━━━━━━━━━━━━━━━┳━━━━━━━━━━━━━━━━━━━━━━━━┳━━━━━━━━━━━━━━━┓\n",
       "┃<span style=\"font-weight: bold\"> Layer (type)                    </span>┃<span style=\"font-weight: bold\"> Output Shape           </span>┃<span style=\"font-weight: bold\">       Param # </span>┃\n",
       "┡━━━━━━━━━━━━━━━━━━━━━━━━━━━━━━━━━╇━━━━━━━━━━━━━━━━━━━━━━━━╇━━━━━━━━━━━━━━━┩\n",
       "│ vae_model (<span style=\"color: #0087ff; text-decoration-color: #0087ff\">VAEModel</span>)            │ ?                      │       <span style=\"color: #00af00; text-decoration-color: #00af00\">637,429</span> │\n",
       "├─────────────────────────────────┼────────────────────────┼───────────────┤\n",
       "│ lstm_module (<span style=\"color: #0087ff; text-decoration-color: #0087ff\">LSTMModule</span>)        │ ?                      │        <span style=\"color: #00af00; text-decoration-color: #00af00\">52,904</span> │\n",
       "└─────────────────────────────────┴────────────────────────┴───────────────┘\n",
       "</pre>\n"
      ],
      "text/plain": [
       "┏━━━━━━━━━━━━━━━━━━━━━━━━━━━━━━━━━┳━━━━━━━━━━━━━━━━━━━━━━━━┳━━━━━━━━━━━━━━━┓\n",
       "┃\u001b[1m \u001b[0m\u001b[1mLayer (type)                   \u001b[0m\u001b[1m \u001b[0m┃\u001b[1m \u001b[0m\u001b[1mOutput Shape          \u001b[0m\u001b[1m \u001b[0m┃\u001b[1m \u001b[0m\u001b[1m      Param #\u001b[0m\u001b[1m \u001b[0m┃\n",
       "┡━━━━━━━━━━━━━━━━━━━━━━━━━━━━━━━━━╇━━━━━━━━━━━━━━━━━━━━━━━━╇━━━━━━━━━━━━━━━┩\n",
       "│ vae_model (\u001b[38;5;33mVAEModel\u001b[0m)            │ ?                      │       \u001b[38;5;34m637,429\u001b[0m │\n",
       "├─────────────────────────────────┼────────────────────────┼───────────────┤\n",
       "│ lstm_module (\u001b[38;5;33mLSTMModule\u001b[0m)        │ ?                      │        \u001b[38;5;34m52,904\u001b[0m │\n",
       "└─────────────────────────────────┴────────────────────────┴───────────────┘\n"
      ]
     },
     "metadata": {},
     "output_type": "display_data"
    },
    {
     "data": {
      "text/html": [
       "<pre style=\"white-space:pre;overflow-x:auto;line-height:normal;font-family:Menlo,'DejaVu Sans Mono',consolas,'Courier New',monospace\"><span style=\"font-weight: bold\"> Total params: </span><span style=\"color: #00af00; text-decoration-color: #00af00\">2,071,000</span> (7.90 MB)\n",
       "</pre>\n"
      ],
      "text/plain": [
       "\u001b[1m Total params: \u001b[0m\u001b[38;5;34m2,071,000\u001b[0m (7.90 MB)\n"
      ]
     },
     "metadata": {},
     "output_type": "display_data"
    },
    {
     "data": {
      "text/html": [
       "<pre style=\"white-space:pre;overflow-x:auto;line-height:normal;font-family:Menlo,'DejaVu Sans Mono',consolas,'Courier New',monospace\"><span style=\"font-weight: bold\"> Trainable params: </span><span style=\"color: #00af00; text-decoration-color: #00af00\">690,333</span> (2.63 MB)\n",
       "</pre>\n"
      ],
      "text/plain": [
       "\u001b[1m Trainable params: \u001b[0m\u001b[38;5;34m690,333\u001b[0m (2.63 MB)\n"
      ]
     },
     "metadata": {},
     "output_type": "display_data"
    },
    {
     "data": {
      "text/html": [
       "<pre style=\"white-space:pre;overflow-x:auto;line-height:normal;font-family:Menlo,'DejaVu Sans Mono',consolas,'Courier New',monospace\"><span style=\"font-weight: bold\"> Non-trainable params: </span><span style=\"color: #00af00; text-decoration-color: #00af00\">0</span> (0.00 B)\n",
       "</pre>\n"
      ],
      "text/plain": [
       "\u001b[1m Non-trainable params: \u001b[0m\u001b[38;5;34m0\u001b[0m (0.00 B)\n"
      ]
     },
     "metadata": {},
     "output_type": "display_data"
    },
    {
     "data": {
      "text/html": [
       "<pre style=\"white-space:pre;overflow-x:auto;line-height:normal;font-family:Menlo,'DejaVu Sans Mono',consolas,'Courier New',monospace\"><span style=\"font-weight: bold\"> Optimizer params: </span><span style=\"color: #00af00; text-decoration-color: #00af00\">1,380,667</span> (5.27 MB)\n",
       "</pre>\n"
      ],
      "text/plain": [
       "\u001b[1m Optimizer params: \u001b[0m\u001b[38;5;34m1,380,667\u001b[0m (5.27 MB)\n"
      ]
     },
     "metadata": {},
     "output_type": "display_data"
    }
   ],
   "source": [
    "config = model.configs\n",
    "example_input = tf.random.normal(\n",
    "    [199, config[\"l_seq\"], config[\"l_win\"], config[\"n_channel\"]]\n",
    ")\n",
    "model.vae.trainable=False\n",
    "model(example_input)\n",
    "model.summary()"
   ]
  }
 ],
 "metadata": {
  "kernelspec": {
   "display_name": "TF2",
   "language": "python",
   "name": "python3"
  },
  "language_info": {
   "codemirror_mode": {
    "name": "ipython",
    "version": 3
   },
   "file_extension": ".py",
   "mimetype": "text/x-python",
   "name": "python",
   "nbconvert_exporter": "python",
   "pygments_lexer": "ipython3",
   "version": "3.9.18"
  }
 },
 "nbformat": 4,
 "nbformat_minor": 2
}
